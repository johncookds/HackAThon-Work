{
 "cells": [
  {
   "cell_type": "markdown",
   "metadata": {},
   "source": [
    "# McKinsey Hack-A-Thon"
   ]
  },
  {
   "cell_type": "markdown",
   "metadata": {},
   "source": [
    "This is code for the one day McKinsey Hack-A-Thon from 3/9/2018 7PM EST to 3/10/2018 7PM EST"
   ]
  },
  {
   "cell_type": "markdown",
   "metadata": {},
   "source": [
    "# Preliminary Analysis"
   ]
  },
  {
   "cell_type": "markdown",
   "metadata": {},
   "source": [
    "3 files:\n",
    "\n",
    "train.csv: \n",
    "It contains the set of 13 challenges that were attempted by the same user in a sequence\n",
    "\n",
    "challenge_data.csv: \n",
    "Contains attributes related to each challenge\n",
    "\n",
    "test.zip: \n",
    "Contains the first 10 challenges solved by a new user set (not in train) in the test set. We need to predict the next 3 sequence of challenges for these users."
   ]
  },
  {
   "cell_type": "code",
   "execution_count": 2,
   "metadata": {
    "collapsed": true
   },
   "outputs": [],
   "source": [
    "import pandas as pd\n",
    "import numpy as np"
   ]
  },
  {
   "cell_type": "code",
   "execution_count": 3,
   "metadata": {
    "collapsed": true
   },
   "outputs": [],
   "source": [
    "train = pd.read_csv('./train.csv')\n",
    "test = pd.read_csv('./test.csv')\n",
    "challenge=pd.read_csv('./challenge_data.csv')"
   ]
  },
  {
   "cell_type": "code",
   "execution_count": 4,
   "metadata": {},
   "outputs": [
    {
     "data": {
      "text/html": [
       "<div>\n",
       "<style>\n",
       "    .dataframe thead tr:only-child th {\n",
       "        text-align: right;\n",
       "    }\n",
       "\n",
       "    .dataframe thead th {\n",
       "        text-align: left;\n",
       "    }\n",
       "\n",
       "    .dataframe tbody tr th {\n",
       "        vertical-align: top;\n",
       "    }\n",
       "</style>\n",
       "<table border=\"1\" class=\"dataframe\">\n",
       "  <thead>\n",
       "    <tr style=\"text-align: right;\">\n",
       "      <th></th>\n",
       "      <th>A</th>\n",
       "    </tr>\n",
       "  </thead>\n",
       "  <tbody>\n",
       "    <tr>\n",
       "      <th>u</th>\n",
       "      <td>2</td>\n",
       "    </tr>\n",
       "  </tbody>\n",
       "</table>\n",
       "</div>"
      ],
      "text/plain": [
       "   A\n",
       "u  2"
      ]
     },
     "execution_count": 4,
     "metadata": {},
     "output_type": "execute_result"
    }
   ],
   "source": [
    "pd.DataFrame({'A':{'u':2}})"
   ]
  },
  {
   "cell_type": "code",
   "execution_count": 5,
   "metadata": {},
   "outputs": [
    {
     "data": {
      "text/html": [
       "<div>\n",
       "<style>\n",
       "    .dataframe thead tr:only-child th {\n",
       "        text-align: right;\n",
       "    }\n",
       "\n",
       "    .dataframe thead th {\n",
       "        text-align: left;\n",
       "    }\n",
       "\n",
       "    .dataframe tbody tr th {\n",
       "        vertical-align: top;\n",
       "    }\n",
       "</style>\n",
       "<table border=\"1\" class=\"dataframe\">\n",
       "  <thead>\n",
       "    <tr style=\"text-align: right;\">\n",
       "      <th></th>\n",
       "      <th>user_sequence</th>\n",
       "      <th>user_id</th>\n",
       "      <th>challenge_sequence</th>\n",
       "      <th>challenge</th>\n",
       "    </tr>\n",
       "  </thead>\n",
       "  <tbody>\n",
       "    <tr>\n",
       "      <th>0</th>\n",
       "      <td>4576_1</td>\n",
       "      <td>4576</td>\n",
       "      <td>1</td>\n",
       "      <td>CI23714</td>\n",
       "    </tr>\n",
       "    <tr>\n",
       "      <th>1</th>\n",
       "      <td>4576_2</td>\n",
       "      <td>4576</td>\n",
       "      <td>2</td>\n",
       "      <td>CI23855</td>\n",
       "    </tr>\n",
       "    <tr>\n",
       "      <th>2</th>\n",
       "      <td>4576_3</td>\n",
       "      <td>4576</td>\n",
       "      <td>3</td>\n",
       "      <td>CI24917</td>\n",
       "    </tr>\n",
       "    <tr>\n",
       "      <th>3</th>\n",
       "      <td>4576_4</td>\n",
       "      <td>4576</td>\n",
       "      <td>4</td>\n",
       "      <td>CI23663</td>\n",
       "    </tr>\n",
       "    <tr>\n",
       "      <th>4</th>\n",
       "      <td>4576_5</td>\n",
       "      <td>4576</td>\n",
       "      <td>5</td>\n",
       "      <td>CI23933</td>\n",
       "    </tr>\n",
       "  </tbody>\n",
       "</table>\n",
       "</div>"
      ],
      "text/plain": [
       "  user_sequence  user_id  challenge_sequence challenge\n",
       "0        4576_1     4576                   1   CI23714\n",
       "1        4576_2     4576                   2   CI23855\n",
       "2        4576_3     4576                   3   CI24917\n",
       "3        4576_4     4576                   4   CI23663\n",
       "4        4576_5     4576                   5   CI23933"
      ]
     },
     "execution_count": 5,
     "metadata": {},
     "output_type": "execute_result"
    }
   ],
   "source": [
    "train.head()"
   ]
  },
  {
   "cell_type": "code",
   "execution_count": 6,
   "metadata": {
    "collapsed": true
   },
   "outputs": [],
   "source": [
    "from collections import defaultdict\n",
    "challenge_dict=defaultdict(list)\n",
    "for i,j in train[['user_id','challenge']].groupby('challenge'):\n",
    "    challenge_dict[i].extend(j['user_id'].tolist())\n",
    "for i,j in test[['user_id','challenge']].groupby('challenge'):\n",
    "    challenge_dict[i].extend(j['user_id'].tolist())"
   ]
  },
  {
   "cell_type": "code",
   "execution_count": 7,
   "metadata": {
    "collapsed": true
   },
   "outputs": [],
   "source": [
    "user_dict=defaultdict(list)\n",
    "for i,j in train[['user_id','challenge']].groupby('user_id'):\n",
    "    user_dict[i].extend(j['challenge'].tolist())\n",
    "for i,j in test[['user_id','challenge']].groupby('user_id'):\n",
    "    user_dict[i].extend(j['challenge'].tolist())"
   ]
  },
  {
   "cell_type": "code",
   "execution_count": 8,
   "metadata": {},
   "outputs": [
    {
     "data": {
      "text/html": [
       "<div>\n",
       "<style>\n",
       "    .dataframe thead tr:only-child th {\n",
       "        text-align: right;\n",
       "    }\n",
       "\n",
       "    .dataframe thead th {\n",
       "        text-align: left;\n",
       "    }\n",
       "\n",
       "    .dataframe tbody tr th {\n",
       "        vertical-align: top;\n",
       "    }\n",
       "</style>\n",
       "<table border=\"1\" class=\"dataframe\">\n",
       "  <thead>\n",
       "    <tr style=\"text-align: right;\">\n",
       "      <th></th>\n",
       "      <th>user_sequence</th>\n",
       "      <th>user_id</th>\n",
       "      <th>challenge_sequence</th>\n",
       "      <th>challenge</th>\n",
       "    </tr>\n",
       "  </thead>\n",
       "  <tbody>\n",
       "    <tr>\n",
       "      <th>0</th>\n",
       "      <td>4577_1</td>\n",
       "      <td>4577</td>\n",
       "      <td>1</td>\n",
       "      <td>CI23855</td>\n",
       "    </tr>\n",
       "    <tr>\n",
       "      <th>1</th>\n",
       "      <td>4577_2</td>\n",
       "      <td>4577</td>\n",
       "      <td>2</td>\n",
       "      <td>CI23933</td>\n",
       "    </tr>\n",
       "    <tr>\n",
       "      <th>2</th>\n",
       "      <td>4577_3</td>\n",
       "      <td>4577</td>\n",
       "      <td>3</td>\n",
       "      <td>CI24917</td>\n",
       "    </tr>\n",
       "    <tr>\n",
       "      <th>3</th>\n",
       "      <td>4577_4</td>\n",
       "      <td>4577</td>\n",
       "      <td>4</td>\n",
       "      <td>CI24915</td>\n",
       "    </tr>\n",
       "    <tr>\n",
       "      <th>4</th>\n",
       "      <td>4577_5</td>\n",
       "      <td>4577</td>\n",
       "      <td>5</td>\n",
       "      <td>CI23714</td>\n",
       "    </tr>\n",
       "  </tbody>\n",
       "</table>\n",
       "</div>"
      ],
      "text/plain": [
       "  user_sequence  user_id  challenge_sequence challenge\n",
       "0        4577_1     4577                   1   CI23855\n",
       "1        4577_2     4577                   2   CI23933\n",
       "2        4577_3     4577                   3   CI24917\n",
       "3        4577_4     4577                   4   CI24915\n",
       "4        4577_5     4577                   5   CI23714"
      ]
     },
     "execution_count": 8,
     "metadata": {},
     "output_type": "execute_result"
    }
   ],
   "source": [
    "test.head()"
   ]
  },
  {
   "cell_type": "code",
   "execution_count": 9,
   "metadata": {},
   "outputs": [
    {
     "data": {
      "text/html": [
       "<div>\n",
       "<style>\n",
       "    .dataframe thead tr:only-child th {\n",
       "        text-align: right;\n",
       "    }\n",
       "\n",
       "    .dataframe thead th {\n",
       "        text-align: left;\n",
       "    }\n",
       "\n",
       "    .dataframe tbody tr th {\n",
       "        vertical-align: top;\n",
       "    }\n",
       "</style>\n",
       "<table border=\"1\" class=\"dataframe\">\n",
       "  <thead>\n",
       "    <tr style=\"text-align: right;\">\n",
       "      <th></th>\n",
       "      <th>challenge_ID</th>\n",
       "      <th>programming_language</th>\n",
       "      <th>challenge_series_ID</th>\n",
       "      <th>total_submissions</th>\n",
       "      <th>publish_date</th>\n",
       "      <th>author_ID</th>\n",
       "      <th>author_gender</th>\n",
       "      <th>author_org_ID</th>\n",
       "      <th>category_id</th>\n",
       "    </tr>\n",
       "  </thead>\n",
       "  <tbody>\n",
       "    <tr>\n",
       "      <th>0</th>\n",
       "      <td>CI23478</td>\n",
       "      <td>2</td>\n",
       "      <td>SI2445</td>\n",
       "      <td>37.0</td>\n",
       "      <td>06-05-2006</td>\n",
       "      <td>AI563576</td>\n",
       "      <td>M</td>\n",
       "      <td>AOI100001</td>\n",
       "      <td>NaN</td>\n",
       "    </tr>\n",
       "    <tr>\n",
       "      <th>1</th>\n",
       "      <td>CI23479</td>\n",
       "      <td>2</td>\n",
       "      <td>SI2435</td>\n",
       "      <td>48.0</td>\n",
       "      <td>17-10-2002</td>\n",
       "      <td>AI563577</td>\n",
       "      <td>M</td>\n",
       "      <td>AOI100002</td>\n",
       "      <td>32.0</td>\n",
       "    </tr>\n",
       "    <tr>\n",
       "      <th>2</th>\n",
       "      <td>CI23480</td>\n",
       "      <td>1</td>\n",
       "      <td>SI2435</td>\n",
       "      <td>15.0</td>\n",
       "      <td>16-10-2002</td>\n",
       "      <td>AI563578</td>\n",
       "      <td>M</td>\n",
       "      <td>AOI100003</td>\n",
       "      <td>NaN</td>\n",
       "    </tr>\n",
       "    <tr>\n",
       "      <th>3</th>\n",
       "      <td>CI23481</td>\n",
       "      <td>1</td>\n",
       "      <td>SI2710</td>\n",
       "      <td>236.0</td>\n",
       "      <td>19-09-2003</td>\n",
       "      <td>AI563579</td>\n",
       "      <td>M</td>\n",
       "      <td>AOI100004</td>\n",
       "      <td>70.0</td>\n",
       "    </tr>\n",
       "    <tr>\n",
       "      <th>4</th>\n",
       "      <td>CI23482</td>\n",
       "      <td>2</td>\n",
       "      <td>SI2440</td>\n",
       "      <td>137.0</td>\n",
       "      <td>21-03-2002</td>\n",
       "      <td>AI563580</td>\n",
       "      <td>M</td>\n",
       "      <td>AOI100005</td>\n",
       "      <td>NaN</td>\n",
       "    </tr>\n",
       "  </tbody>\n",
       "</table>\n",
       "</div>"
      ],
      "text/plain": [
       "  challenge_ID  programming_language challenge_series_ID  total_submissions  \\\n",
       "0      CI23478                     2              SI2445               37.0   \n",
       "1      CI23479                     2              SI2435               48.0   \n",
       "2      CI23480                     1              SI2435               15.0   \n",
       "3      CI23481                     1              SI2710              236.0   \n",
       "4      CI23482                     2              SI2440              137.0   \n",
       "\n",
       "  publish_date author_ID author_gender author_org_ID  category_id  \n",
       "0   06-05-2006  AI563576             M     AOI100001          NaN  \n",
       "1   17-10-2002  AI563577             M     AOI100002         32.0  \n",
       "2   16-10-2002  AI563578             M     AOI100003          NaN  \n",
       "3   19-09-2003  AI563579             M     AOI100004         70.0  \n",
       "4   21-03-2002  AI563580             M     AOI100005          NaN  "
      ]
     },
     "execution_count": 9,
     "metadata": {},
     "output_type": "execute_result"
    }
   ],
   "source": [
    "challenge.head()"
   ]
  },
  {
   "cell_type": "markdown",
   "metadata": {},
   "source": [
    "3 main approaches I see:\n",
    "1. forget time series component and use a matrix factorization technique to recommend such as Alternating Least Squares\n",
    "2. forget time series component and try to predict next n challenges from previous n challenges\n",
    "3. Time Series LSTM model to predict next challenge given previous challenges"
   ]
  },
  {
   "cell_type": "markdown",
   "metadata": {},
   "source": [
    "# Alternating Least Squares(Final Model)"
   ]
  },
  {
   "cell_type": "markdown",
   "metadata": {},
   "source": [
    "Creating a function to combine knowledge about challenges into Alternating Least Squares:\n",
    "More weight if similar programming_languages, challenge_series_ID, author_ID and category_id\n",
    "same programming_language =+2\n",
    "same challenge_series_ID =+5\n",
    "same author_ID =+5\n",
    "same category_id =+5"
   ]
  },
  {
   "cell_type": "code",
   "execution_count": 10,
   "metadata": {
    "collapsed": true
   },
   "outputs": [],
   "source": [
    "ch_records=challenge.to_dict(orient='records')"
   ]
  },
  {
   "cell_type": "code",
   "execution_count": 11,
   "metadata": {
    "collapsed": true
   },
   "outputs": [],
   "source": [
    "#setting up user_challenge_matrix\n",
    "challenges_list = challenge['challenge_ID'].tolist()\n",
    "train_users= set(train['user_id'].tolist())\n",
    "test_users= set(test['user_id'].tolist())\n",
    "all_users = list(train_users.union(test_users))"
   ]
  },
  {
   "cell_type": "code",
   "execution_count": 12,
   "metadata": {},
   "outputs": [
    {
     "data": {
      "text/plain": [
       "109264"
      ]
     },
     "execution_count": 12,
     "metadata": {},
     "output_type": "execute_result"
    }
   ],
   "source": [
    "len(all_users)"
   ]
  },
  {
   "cell_type": "code",
   "execution_count": 13,
   "metadata": {},
   "outputs": [
    {
     "data": {
      "text/plain": [
       "5606"
      ]
     },
     "execution_count": 13,
     "metadata": {},
     "output_type": "execute_result"
    }
   ],
   "source": [
    "len(challenges_list)"
   ]
  },
  {
   "cell_type": "code",
   "execution_count": 180,
   "metadata": {
    "collapsed": true
   },
   "outputs": [],
   "source": [
    "var_list=[(8,'author_ID'),(8,'challenge_series_ID'),(5,'programming_language'),(.5,'author_gender'),(10,'category_id'),(2,'author_org_ID')] #total_submissions is different\n"
   ]
  },
  {
   "cell_type": "code",
   "execution_count": 181,
   "metadata": {},
   "outputs": [
    {
     "name": "stderr",
     "output_type": "stream",
     "text": [
      "5606it [02:07, 43.97it/s]\n"
     ]
    }
   ],
   "source": [
    "from tqdm import tqdm\n",
    "from scipy.sparse import coo_matrix\n",
    "row=[]\n",
    "col=[]\n",
    "data=[]\n",
    "mass_dict=defaultdict(dict)\n",
    "for i,ch in tqdm(enumerate(challenges_list)):\n",
    "    c_ch=set(challenge_dict[ch])\n",
    "    for j,use in enumerate(all_users):\n",
    "        if use in c_ch:\n",
    "            row.append(j)\n",
    "            col.append(i)\n",
    "            data.append(1)\n",
    "            if j not in mass_dict.keys():\n",
    "                mass_dict[j]={}\n",
    "            for wght,var in var_list:\n",
    "                if var not in mass_dict[j].keys():\n",
    "                    mass_dict[j][var]=defaultdict(int)\n",
    "                mass_dict[j][var][str(ch_records[i][var])]+=1\n",
    "            if 'total_submissions' in mass_dict[j].keys():\n",
    "                mass_dict[j]['total_submissions'].append(str(ch_records[i]['total_submissions']))\n",
    "            else:\n",
    "                mass_dict[j]['total_submissions']=[str(ch_records[i]['total_submissions'])]\n",
    "            if 'publish_date' in mass_dict[j].keys():\n",
    "                mass_dict[j]['publish_date'].append(str(ch_records[i]['publish_date']))\n",
    "            else:\n",
    "                mass_dict[j]['publish_date']=[str(ch_records[i]['publish_date'])]"
   ]
  },
  {
   "cell_type": "code",
   "execution_count": 182,
   "metadata": {},
   "outputs": [],
   "source": [
    "from copy import deepcopy\n",
    "#raise ValueError()\n",
    "d2=deepcopy(data)"
   ]
  },
  {
   "cell_type": "code",
   "execution_count": 282,
   "metadata": {
    "collapsed": true
   },
   "outputs": [],
   "source": [
    "data=deepcopy(d2)"
   ]
  },
  {
   "cell_type": "code",
   "execution_count": 283,
   "metadata": {},
   "outputs": [
    {
     "data": {
      "text/plain": [
       "1"
      ]
     },
     "execution_count": 283,
     "metadata": {},
     "output_type": "execute_result"
    }
   ],
   "source": [
    "max(data)"
   ]
  },
  {
   "cell_type": "code",
   "execution_count": 284,
   "metadata": {
    "collapsed": true
   },
   "outputs": [],
   "source": [
    "denom=1"
   ]
  },
  {
   "cell_type": "code",
   "execution_count": 292,
   "metadata": {
    "scrolled": false
   },
   "outputs": [
    {
     "name": "stderr",
     "output_type": "stream",
     "text": [
      "100%|██████████████| 1301236/1301236 [00:10<00:00, 125985.14it/s]\n"
     ]
    }
   ],
   "source": [
    "var_list=[(8,'author_ID'),(8,'challenge_series_ID'),(8,'programming_language'),(.5,'author_gender'),(10,'category_id'),(.05,'author_org_ID')] #total_submissions is different\n",
    "for spc in tqdm(range(len(data))):\n",
    "    data[spc]/=denom\n",
    "    user_info=mass_dict[row[spc]]\n",
    "    current_challenge_info=ch_records[col[spc]]\n",
    "    for wght,var in var_list:\n",
    "        if var=='category_id' and not current_challenge_info[var]<=10 and not current_challenge_info[var]>10:\n",
    "            continue\n",
    "        data[spc]+=user_info[var][current_challenge_info[var]]*wght/denom\n",
    "    if not np.isnan(current_challenge_info['total_submissions']):\n",
    "        data[spc]+=np.log10(current_challenge_info['total_submissions'])*20/denom"
   ]
  },
  {
   "cell_type": "code",
   "execution_count": 293,
   "metadata": {
    "collapsed": true
   },
   "outputs": [],
   "source": [
    "from scipy.sparse import coo_matrix\n",
    "sparse_matrix=coo_matrix((data, (row, col)), shape=(len(all_users), len(challenges_list)))"
   ]
  },
  {
   "cell_type": "code",
   "execution_count": 294,
   "metadata": {},
   "outputs": [
    {
     "name": "stderr",
     "output_type": "stream",
     "text": [
      "WARNING:root:Intel MKL BLAS detected. Its highly recommend to set the environment variable 'export MKL_NUM_THREADS=1' to disable its internal multithreading\n"
     ]
    }
   ],
   "source": [
    "import implicit\n",
    "model = implicit.als.AlternatingLeastSquares(factors=250)\n",
    "model.fit(sparse_matrix.T)"
   ]
  },
  {
   "cell_type": "code",
   "execution_count": 295,
   "metadata": {
    "collapsed": true
   },
   "outputs": [],
   "source": [
    "user_items = sparse_matrix.tocsr()"
   ]
  },
  {
   "cell_type": "code",
   "execution_count": 296,
   "metadata": {},
   "outputs": [
    {
     "data": {
      "text/plain": [
       "[(1658, 0.26384756),\n",
       " (1390, 0.26315558),\n",
       " (435, 0.25172612),\n",
       " (1398, 0.24212229),\n",
       " (3414, 0.24014762),\n",
       " (134, 0.23387334),\n",
       " (2689, 0.23345861),\n",
       " (1811, 0.21335006),\n",
       " (1646, 0.21297152),\n",
       " (1044, 0.20808257)]"
      ]
     },
     "execution_count": 296,
     "metadata": {},
     "output_type": "execute_result"
    }
   ],
   "source": [
    "#Test model Recommendation\n",
    "model.recommend(0,user_items)"
   ]
  },
  {
   "cell_type": "code",
   "execution_count": 297,
   "metadata": {
    "scrolled": true
   },
   "outputs": [
    {
     "name": "stderr",
     "output_type": "stream",
     "text": [
      "109264it [00:18, 6011.32it/s]\n"
     ]
    }
   ],
   "source": [
    "submission_1=[]\n",
    "for i,user in tqdm(enumerate(all_users)):\n",
    "    if user not in test_users:\n",
    "        continue\n",
    "    top3=model.recommend(i,user_items)[:3]\n",
    "    for j,each in enumerate(top3):\n",
    "        submission_1.append([str(user)+'_'+str(11+j),challenges_list[each[0]]])"
   ]
  },
  {
   "cell_type": "code",
   "execution_count": 298,
   "metadata": {},
   "outputs": [],
   "source": [
    "submission_1=pd.DataFrame(submission_1,columns=['user_sequence','challenge'])\n",
    "submission_1.to_csv('submission_1.csv',index=False)"
   ]
  },
  {
   "cell_type": "markdown",
   "metadata": {},
   "source": [
    "17.7% accuracy predicting next three challenges a user would do (scored based on Mean Average Precision (MAP) )"
   ]
  },
  {
   "cell_type": "code",
   "execution_count": null,
   "metadata": {
    "collapsed": true
   },
   "outputs": [],
   "source": []
  },
  {
   "cell_type": "code",
   "execution_count": null,
   "metadata": {
    "collapsed": true
   },
   "outputs": [],
   "source": []
  },
  {
   "cell_type": "markdown",
   "metadata": {},
   "source": [
    "# Stuff that didn't work out below:"
   ]
  },
  {
   "cell_type": "markdown",
   "metadata": {},
   "source": [
    "# LightFM Model"
   ]
  },
  {
   "cell_type": "code",
   "execution_count": 155,
   "metadata": {},
   "outputs": [
    {
     "name": "stderr",
     "output_type": "stream",
     "text": [
      "5606it [02:05, 53.54it/s]\n"
     ]
    }
   ],
   "source": [
    "from tqdm import tqdm\n",
    "from scipy.sparse import coo_matrix\n",
    "row=[]\n",
    "col=[]\n",
    "data=[]\n",
    "mass_dict=defaultdict(dict)\n",
    "for i,ch in tqdm(enumerate(challenges_list)):\n",
    "    c_ch=set(challenge_dict[ch])\n",
    "    for j,use in enumerate(all_users):\n",
    "        if use in c_ch:\n",
    "            row.append(j)\n",
    "            col.append(i)\n",
    "            data.append(1)\n",
    "            if j not in mass_dict.keys():\n",
    "                mass_dict[j]={}\n",
    "            for wght,var in var_list:\n",
    "                if var not in mass_dict[j].keys():\n",
    "                    mass_dict[j][var]=defaultdict(int)\n",
    "                mass_dict[j][var][str(ch_records[i][var])]+=1\n",
    "            if 'total_submissions' in mass_dict[j].keys():\n",
    "                mass_dict[j]['total_submissions'].append(str(ch_records[i]['total_submissions']))\n",
    "            else:\n",
    "                mass_dict[j]['total_submissions']=[str(ch_records[i]['total_submissions'])]\n",
    "            if 'publish_date' in mass_dict[j].keys():\n",
    "                mass_dict[j]['publish_date'].append(str(ch_records[i]['publish_date']))\n",
    "            else:\n",
    "                mass_dict[j]['publish_date']=[str(ch_records[i]['publish_date'])]"
   ]
  },
  {
   "cell_type": "code",
   "execution_count": 156,
   "metadata": {
    "collapsed": true
   },
   "outputs": [],
   "source": [
    "denom=20"
   ]
  },
  {
   "cell_type": "code",
   "execution_count": 157,
   "metadata": {},
   "outputs": [
    {
     "name": "stderr",
     "output_type": "stream",
     "text": [
      "100%|██████████████| 1301236/1301236 [00:09<00:00, 132300.97it/s]\n"
     ]
    }
   ],
   "source": [
    "var_list=[(8,'author_ID'),(8,'challenge_series_ID'),(5,'programming_language'),(.5,'author_gender'),(10,'category_id'),(2,'author_org_ID')] #total_submissions is different\n",
    "for spc in tqdm(range(len(data))):\n",
    "    data[spc]/=denom\n",
    "    user_info=mass_dict[row[spc]]\n",
    "    current_challenge_info=ch_records[col[spc]]\n",
    "    for wght,var in var_list:\n",
    "        if var=='category_id' and not current_challenge_info[var]<=10 and not current_challenge_info[var]>10:\n",
    "            continue\n",
    "        data[spc]+=user_info[var][current_challenge_info[var]]*wght/denom\n",
    "    if not np.isnan(current_challenge_info['total_submissions']):\n",
    "        data[spc]+=np.log10(current_challenge_info['total_submissions'])*10/denom"
   ]
  },
  {
   "cell_type": "code",
   "execution_count": 158,
   "metadata": {
    "collapsed": true
   },
   "outputs": [],
   "source": [
    "from scipy.sparse import coo_matrix\n",
    "sparse_matrix=coo_matrix((data, (row, col)), shape=(len(all_users), len(challenges_list)))"
   ]
  },
  {
   "cell_type": "code",
   "execution_count": 121,
   "metadata": {},
   "outputs": [
    {
     "data": {
      "text/plain": [
       "Index(['challenge_ID', 'programming_language', 'challenge_series_ID',\n",
       "       'total_submissions', 'publish_date', 'author_ID', 'author_gender',\n",
       "       'author_org_ID', 'category_id'],\n",
       "      dtype='object')"
      ]
     },
     "execution_count": 121,
     "metadata": {},
     "output_type": "execute_result"
    }
   ],
   "source": [
    "challenge.columns"
   ]
  },
  {
   "cell_type": "code",
   "execution_count": 161,
   "metadata": {},
   "outputs": [],
   "source": [
    "#Generate item features\n",
    "cols=[]\n",
    "col_set=set()\n",
    "for i in ch_records:\n",
    "    v = [i[vb] for vb in ['challenge_series_ID','total_submissions','author_org_ID','author_gender','category_id']]\n",
    "    for val in v:\n",
    "        if type(val)==float:\n",
    "            if str(val)=='nan':\n",
    "                v=0\n",
    "            else:\n",
    "                v=str(int(np.log10(val)))\n",
    "        else:\n",
    "            v=str(val)\n",
    "        if v in col_set:\n",
    "            continue\n",
    "        else:\n",
    "            cols.append(v)\n",
    "            col_set.add(v)"
   ]
  },
  {
   "cell_type": "code",
   "execution_count": 162,
   "metadata": {},
   "outputs": [
    {
     "data": {
      "text/plain": [
       "2160"
      ]
     },
     "execution_count": 162,
     "metadata": {},
     "output_type": "execute_result"
    }
   ],
   "source": [
    "len(cols)"
   ]
  },
  {
   "cell_type": "code",
   "execution_count": 163,
   "metadata": {},
   "outputs": [],
   "source": [
    "colmap={j:i for i,j in enumerate(cols)}"
   ]
  },
  {
   "cell_type": "code",
   "execution_count": 167,
   "metadata": {},
   "outputs": [],
   "source": [
    "item_features=[]\n",
    "item_rows=[]\n",
    "item_cols=[]\n",
    "item_data=[]\n",
    "for ind,i in enumerate(ch_records):\n",
    "    v = [i[vb] for vb in ['challenge_series_ID','total_submissions','author_org_ID','author_gender','category_id']]\n",
    "    for val in v:\n",
    "        if type(val)==float:\n",
    "            if str(val)=='nan':\n",
    "                v=0\n",
    "            else:\n",
    "                v=str(int(np.log10(val)))\n",
    "        else:\n",
    "            v=str(val)\n",
    "        item_rows.append(ind)\n",
    "        item_cols.append(colmap[v])\n",
    "        item_data.append(1)"
   ]
  },
  {
   "cell_type": "code",
   "execution_count": 168,
   "metadata": {},
   "outputs": [],
   "source": [
    "item_features=coo_matrix((item_data, (item_rows, item_cols)), shape=(len(ch_records), len(colmap)))"
   ]
  },
  {
   "cell_type": "code",
   "execution_count": 169,
   "metadata": {},
   "outputs": [
    {
     "data": {
      "text/plain": [
       "(5606, 2160)"
      ]
     },
     "execution_count": 169,
     "metadata": {},
     "output_type": "execute_result"
    }
   ],
   "source": [
    "item_features.shape"
   ]
  },
  {
   "cell_type": "code",
   "execution_count": 170,
   "metadata": {},
   "outputs": [
    {
     "data": {
      "text/plain": [
       "(109264, 5606)"
      ]
     },
     "execution_count": 170,
     "metadata": {},
     "output_type": "execute_result"
    }
   ],
   "source": [
    "sparse_matrix.shape"
   ]
  },
  {
   "cell_type": "code",
   "execution_count": 171,
   "metadata": {},
   "outputs": [],
   "source": [
    "from lightfm import LightFM\n",
    "from lightfm.evaluation import precision_at_k"
   ]
  },
  {
   "cell_type": "code",
   "execution_count": 172,
   "metadata": {
    "collapsed": true
   },
   "outputs": [],
   "source": [
    "# Instantiate and train the model\n",
    "model = LightFM(loss='warp')"
   ]
  },
  {
   "cell_type": "code",
   "execution_count": 173,
   "metadata": {},
   "outputs": [
    {
     "data": {
      "text/plain": [
       "<lightfm.lightfm.LightFM at 0x140ad8c8cc0>"
      ]
     },
     "execution_count": 173,
     "metadata": {},
     "output_type": "execute_result"
    }
   ],
   "source": [
    "model.fit(sparse_matrix, item_features=item_features,epochs=200, num_threads=20)"
   ]
  },
  {
   "cell_type": "code",
   "execution_count": 178,
   "metadata": {},
   "outputs": [],
   "source": [
    "train_precision = precision_at_k(model, sparse_matrix,item_features=item_features, k=3,num_threads=10).mean()"
   ]
  },
  {
   "cell_type": "code",
   "execution_count": 179,
   "metadata": {},
   "outputs": [
    {
     "data": {
      "text/plain": [
       "0.23810831"
      ]
     },
     "execution_count": 179,
     "metadata": {},
     "output_type": "execute_result"
    }
   ],
   "source": [
    "train_precision"
   ]
  },
  {
   "cell_type": "code",
   "execution_count": 174,
   "metadata": {},
   "outputs": [
    {
     "name": "stderr",
     "output_type": "stream",
     "text": [
      "109264it [03:33, 510.96it/s]\n"
     ]
    }
   ],
   "source": [
    "submission_2=[]\n",
    "for i,user in tqdm(enumerate(all_users)):\n",
    "    if user not in test_users:\n",
    "        continue\n",
    "    scores=model.predict(user_ids=np.array([i]*len(ch_records)),\n",
    "              item_ids=np.array(range(len(ch_records))),\n",
    "              item_features=item_features,num_threads=5)\n",
    "    sc_list=list(zip(range(len(scores)),scores))\n",
    "    top40=sorted(sc_list, key= lambda x: x[1],reverse=True)[:40]\n",
    "    zx=0\n",
    "    for j,each in enumerate(top40):\n",
    "        if challenges_list[each[0]] in user_dict[int(user)]:\n",
    "            continue\n",
    "        else:\n",
    "            zx+=1\n",
    "            submission_2.append([str(user)+'_'+str(10+zx),challenges_list[each[0]]])\n",
    "        if zx==3:\n",
    "            break\n"
   ]
  },
  {
   "cell_type": "code",
   "execution_count": 175,
   "metadata": {},
   "outputs": [],
   "source": [
    "submission_2=pd.DataFrame(submission_2,columns=['user_sequence','challenge'])"
   ]
  },
  {
   "cell_type": "code",
   "execution_count": 176,
   "metadata": {},
   "outputs": [
    {
     "data": {
      "text/html": [
       "<div>\n",
       "<style>\n",
       "    .dataframe thead tr:only-child th {\n",
       "        text-align: right;\n",
       "    }\n",
       "\n",
       "    .dataframe thead th {\n",
       "        text-align: left;\n",
       "    }\n",
       "\n",
       "    .dataframe tbody tr th {\n",
       "        vertical-align: top;\n",
       "    }\n",
       "</style>\n",
       "<table border=\"1\" class=\"dataframe\">\n",
       "  <thead>\n",
       "    <tr style=\"text-align: right;\">\n",
       "      <th></th>\n",
       "      <th>user_sequence</th>\n",
       "      <th>challenge</th>\n",
       "    </tr>\n",
       "  </thead>\n",
       "  <tbody>\n",
       "    <tr>\n",
       "      <th>0</th>\n",
       "      <td>4577_11</td>\n",
       "      <td>CI24944</td>\n",
       "    </tr>\n",
       "    <tr>\n",
       "      <th>1</th>\n",
       "      <td>4577_12</td>\n",
       "      <td>CI24957</td>\n",
       "    </tr>\n",
       "    <tr>\n",
       "      <th>2</th>\n",
       "      <td>4577_13</td>\n",
       "      <td>CI25733</td>\n",
       "    </tr>\n",
       "    <tr>\n",
       "      <th>3</th>\n",
       "      <td>4578_11</td>\n",
       "      <td>CI24944</td>\n",
       "    </tr>\n",
       "    <tr>\n",
       "      <th>4</th>\n",
       "      <td>4578_12</td>\n",
       "      <td>CI24957</td>\n",
       "    </tr>\n",
       "  </tbody>\n",
       "</table>\n",
       "</div>"
      ],
      "text/plain": [
       "  user_sequence challenge\n",
       "0       4577_11   CI24944\n",
       "1       4577_12   CI24957\n",
       "2       4577_13   CI25733\n",
       "3       4578_11   CI24944\n",
       "4       4578_12   CI24957"
      ]
     },
     "execution_count": 176,
     "metadata": {},
     "output_type": "execute_result"
    }
   ],
   "source": [
    "submission_2.head()"
   ]
  },
  {
   "cell_type": "code",
   "execution_count": 177,
   "metadata": {
    "collapsed": true
   },
   "outputs": [],
   "source": [
    "submission_2.to_csv('submission_2.csv',index=False)"
   ]
  },
  {
   "cell_type": "code",
   "execution_count": 597,
   "metadata": {},
   "outputs": [
    {
     "name": "stdout",
     "output_type": "stream",
     "text": [
      "train <class 'scipy.sparse.coo.coo_matrix'> (943, 1682)\n",
      "test <class 'scipy.sparse.coo.coo_matrix'> (943, 1682)\n",
      "item_features <class 'scipy.sparse.csr.csr_matrix'> (1682, 1682)\n",
      "item_feature_labels <class 'numpy.ndarray'> (1682,)\n",
      "item_labels <class 'numpy.ndarray'> (1682,)\n"
     ]
    }
   ],
   "source": [
    "from lightfm.datasets import fetch_movielens\n",
    "movielens = fetch_movielens()\n",
    "for key, value in movielens.items():\n",
    "    print(key, type(value), value.shape)"
   ]
  },
  {
   "cell_type": "markdown",
   "metadata": {},
   "source": [
    "# Simple LSTM Model"
   ]
  },
  {
   "cell_type": "markdown",
   "metadata": {},
   "source": [
    "To Do:\n",
    "\n",
    "Check to see if one-hot is best option or if beginnings of some of the IDs mean something\n",
    "\n",
    "Create LSTM"
   ]
  },
  {
   "cell_type": "code",
   "execution_count": null,
   "metadata": {
    "collapsed": true
   },
   "outputs": [],
   "source": [
    "data=[]\n",
    "for i,j in train[['user_id','challenge']].groupby('user_id'):\n",
    "    for chal in j['challenge'].tolist():\n",
    "        one_hot=np.zeros(len(challenge_list))\n",
    "        one_hot[challenge_list.index(chal)]=1\n",
    "        challenge[challenge_ID==chal]\n",
    "    user_dict[i].extend(j['challenge'].tolist())"
   ]
  }
 ],
 "metadata": {
  "kernelspec": {
   "display_name": "Python 3",
   "language": "python",
   "name": "python3"
  },
  "language_info": {
   "codemirror_mode": {
    "name": "ipython",
    "version": 3
   },
   "file_extension": ".py",
   "mimetype": "text/x-python",
   "name": "python",
   "nbconvert_exporter": "python",
   "pygments_lexer": "ipython3",
   "version": "3.6.2"
  }
 },
 "nbformat": 4,
 "nbformat_minor": 2
}
